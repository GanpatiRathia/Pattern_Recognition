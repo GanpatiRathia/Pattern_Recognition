{
 "cells": [
  {
   "cell_type": "code",
   "execution_count": 119,
   "metadata": {},
   "outputs": [],
   "source": [
    "import numpy as np\n",
    "import pandas as pd\n",
    "from scipy.spatial import distance\n",
    "import math\n",
    "from sklearn.datasets import load_iris\n",
    "from sklearn.model_selection import train_test_split\n",
    "from scipy.stats import multivariate_normal\n",
    "import operator\n",
    "import matplotlib.pyplot as plt "
   ]
  },
  {
   "cell_type": "code",
   "execution_count": 21,
   "metadata": {},
   "outputs": [],
   "source": [
    "iris = load_iris()\n"
   ]
  },
  {
   "cell_type": "code",
   "execution_count": 53,
   "metadata": {},
   "outputs": [],
   "source": [
    "x = iris.data\n",
    "y = iris.target\n"
   ]
  },
  {
   "cell_type": "code",
   "execution_count": 51,
   "metadata": {},
   "outputs": [],
   "source": [
    "setosa_val = x[0:50]\n",
    "setosa_label = y[0:50]\n",
    "versicolor_val , versicolor_label = x[50:100] , y[50:100]\n",
    "verginica_val , verginica_label = x[100:150] ,y[100:150]"
   ]
  },
  {
   "cell_type": "code",
   "execution_count": 58,
   "metadata": {},
   "outputs": [],
   "source": [
    "\n",
    "setosa_train,setosa_test,setosa_label_train,setosa_label_test=train_test_split(setosa_val,setosa_label,test_size=0.2)\n",
    "versicolor_train,versicolor_test,versicolor_label_train,versicolor_label_test=train_test_split(versicolor_val,versicolor_label,test_size=0.2)\n",
    "verginica_train,verginica_test,verginica_label_train,verginica_label_test=train_test_split(verginica_val,verginica_label,test_size=0.2)\n"
   ]
  },
  {
   "cell_type": "code",
   "execution_count": 59,
   "metadata": {},
   "outputs": [
    {
     "name": "stdout",
     "output_type": "stream",
     "text": [
      "[[5.8 2.6 4.  1.2]\n",
      " [5.7 2.9 4.2 1.3]\n",
      " [6.6 3.  4.4 1.4]\n",
      " [5.9 3.  4.2 1.5]\n",
      " [6.  2.7 5.1 1.6]\n",
      " [6.7 3.1 4.4 1.4]\n",
      " [5.4 3.  4.5 1.5]\n",
      " [7.  3.2 4.7 1.4]\n",
      " [6.1 2.8 4.  1.3]\n",
      " [5.6 2.7 4.2 1.3]\n",
      " [5.6 3.  4.5 1.5]\n",
      " [6.6 2.9 4.6 1.3]\n",
      " [6.3 3.3 4.7 1.6]\n",
      " [6.5 2.8 4.6 1.5]\n",
      " [5.7 2.8 4.5 1.3]\n",
      " [5.8 2.7 3.9 1.2]\n",
      " [5.5 2.5 4.  1.3]\n",
      " [6.  2.2 4.  1. ]\n",
      " [5.5 2.3 4.  1.3]\n",
      " [6.9 3.1 4.9 1.5]\n",
      " [6.1 3.  4.6 1.4]\n",
      " [6.  3.4 4.5 1.6]\n",
      " [6.2 2.9 4.3 1.3]\n",
      " [5.7 2.6 3.5 1. ]\n",
      " [6.8 2.8 4.8 1.4]\n",
      " [5.6 2.9 3.6 1.3]\n",
      " [5.7 2.8 4.1 1.3]\n",
      " [6.7 3.  5.  1.7]\n",
      " [5.8 2.7 4.1 1. ]\n",
      " [5.2 2.7 3.9 1.4]\n",
      " [6.7 3.1 4.7 1.5]\n",
      " [6.1 2.9 4.7 1.4]\n",
      " [5.9 3.2 4.8 1.8]\n",
      " [6.1 2.8 4.7 1.2]\n",
      " [6.4 3.2 4.5 1.5]\n",
      " [6.2 2.2 4.5 1.5]\n",
      " [5.5 2.4 3.7 1. ]\n",
      " [5.  2.  3.5 1. ]\n",
      " [5.6 2.5 3.9 1.1]\n",
      " [5.5 2.4 3.8 1.1]]   [[5.6 3.  4.1 1.3]\n",
      " [5.5 2.6 4.4 1.2]\n",
      " [6.4 2.9 4.3 1.3]\n",
      " [6.3 2.5 4.9 1.5]\n",
      " [5.7 3.  4.2 1.2]\n",
      " [5.1 2.5 3.  1.1]\n",
      " [4.9 2.4 3.3 1. ]\n",
      " [6.  2.9 4.5 1.5]\n",
      " [6.3 2.3 4.4 1.3]\n",
      " [5.  2.3 3.3 1. ]] [1 1 1 1 1 1 1 1 1 1 1 1 1 1 1 1 1 1 1 1 1 1 1 1 1 1 1 1 1 1 1 1 1 1 1 1 1\n",
      " 1 1 1] [1 1 1 1 1 1 1 1 1 1]\n"
     ]
    }
   ],
   "source": [
    "print(versicolor_train,\" \",versicolor_test,versicolor_label_train,versicolor_label_test)"
   ]
  },
  {
   "cell_type": "code",
   "execution_count": 61,
   "metadata": {},
   "outputs": [],
   "source": [
    "xMean1 = np.mean(setosa_train,axis=0)\n",
    "xMean2 = np.mean(versicolor_train,axis=0)\n",
    "xMean3 = np.mean(verginica_train,axis=0)"
   ]
  },
  {
   "cell_type": "code",
   "execution_count": 62,
   "metadata": {},
   "outputs": [
    {
     "name": "stdout",
     "output_type": "stream",
     "text": [
      "Mean of the C1 =  [4.9975 3.3825 1.455  0.2475]\n",
      "Mean of the C2 =  [6.     2.8025 4.315  1.3475]\n",
      "Mean of the C3 =  [6.5675 2.975  5.5225 2.02  ]\n"
     ]
    }
   ],
   "source": [
    "    print(\"Mean of the C1 = \",xMean1)\n",
    "    print(\"Mean of the C2 = \",xMean2)\n",
    "    print(\"Mean of the C3 = \",xMean3)"
   ]
  },
  {
   "cell_type": "code",
   "execution_count": 63,
   "metadata": {},
   "outputs": [],
   "source": [
    "    covX1 = np.cov(setosa_train,rowvar=False)\n",
    "    covX2 = np.cov(versicolor_train,rowvar=False)\n",
    "    covX3 = np.cov(verginica_train,rowvar=False)"
   ]
  },
  {
   "cell_type": "code",
   "execution_count": 64,
   "metadata": {},
   "outputs": [],
   "source": [
    "    invCov1 = np.linalg.inv(covX1)\n",
    "    invCov2 = np.linalg.inv(covX2)\n",
    "    invCov3 = np.linalg.inv(covX3)"
   ]
  },
  {
   "cell_type": "code",
   "execution_count": 66,
   "metadata": {},
   "outputs": [],
   "source": [
    "det1 = np.linalg.det(invCov1)\n",
    "det2 = np.linalg.det(invCov2)\n",
    "det3 = np.linalg.det(invCov3)"
   ]
  },
  {
   "cell_type": "code",
   "execution_count": 67,
   "metadata": {},
   "outputs": [
    {
     "name": "stdout",
     "output_type": "stream",
     "text": [
      "Coveriance Matrice C1= \n",
      " [[0.11922436 0.09175    0.01962821 0.01063462]\n",
      " [0.09175    0.1348141  0.0140641  0.00957051]\n",
      " [0.01962821 0.0140641  0.03125641 0.0070641 ]\n",
      " [0.01063462 0.00957051 0.0070641  0.01178846]]\n",
      "Inverse Of Cov C1= \n",
      " [[ 18.88507513 -11.99015794  -5.56795705  -3.96582119]\n",
      " [-11.99015794  15.64617467   1.05899872  -2.52043685]\n",
      " [ -5.56795705   1.05899872  39.40986859 -19.4527023 ]\n",
      " [ -3.96582119  -2.52043685 -19.4527023  102.10940049]]\n",
      "Det of inv of C1  476248.29291473195\n",
      "Coveriance Matrice C2= \n",
      " [[0.24102564 0.08461538 0.14230769 0.04358974]\n",
      " [0.08461538 0.09973718 0.07970513 0.04321154]\n",
      " [0.14230769 0.07970513 0.17258974 0.06362821]\n",
      " [0.04358974 0.04321154 0.06362821 0.03948077]]\n",
      "Inverse Of Cov C2= \n",
      " [[  9.52872961  -4.96149132  -9.0896107    9.55894259]\n",
      " [ -4.96149132  22.19267217   1.91531073 -21.89869076]\n",
      " [ -9.0896107    1.91531073  23.3521151  -29.69554333]\n",
      " [  9.55894259 -21.89869076 -29.69554333  86.6011086 ]]\n",
      "Det of inv of C2  67566.98063502667\n",
      "Coveriance Matrice C3= \n",
      " [[0.34327564 0.08070513 0.25562179 0.04092308]\n",
      " [0.08070513 0.08910256 0.06980769 0.05128205]\n",
      " [0.25562179 0.06980769 0.26845513 0.03902564]\n",
      " [0.04092308 0.05128205 0.03902564 0.08266667]]\n",
      "Inverse Of Cov C3= \n",
      " [[ 10.34783415  -2.58286005  -9.30860549   0.87415458]\n",
      " [ -2.58286005  21.06363329  -1.40033377 -11.12708249]\n",
      " [ -9.30860549  -1.40033377  13.05234682  -0.68500929]\n",
      " [  0.87415458 -11.12708249  -0.68500929  18.89007395]]\n",
      "Det of inv of C3  10222.500065791502\n"
     ]
    }
   ],
   "source": [
    "    print(\"Coveriance Matrice C1= \\n\",covX1)\n",
    "    print(\"Inverse Of Cov C1= \\n\",invCov1)\n",
    "    print(\"Det of inv of C1 \",det1)\n",
    "\n",
    "    print(\"Coveriance Matrice C2= \\n\",covX2)\n",
    "    print(\"Inverse Of Cov C2= \\n\",invCov2)\n",
    "    print(\"Det of inv of C2 \",det2)\n",
    "\n",
    "    print(\"Coveriance Matrice C3= \\n\",covX3)\n",
    "    print(\"Inverse Of Cov C3= \\n\",invCov3)\n",
    "    print(\"Det of inv of C3 \",det3)"
   ]
  },
  {
   "cell_type": "code",
   "execution_count": 68,
   "metadata": {},
   "outputs": [
    {
     "name": "stdout",
     "output_type": "stream",
     "text": [
      "4.298847085134468\n"
     ]
    }
   ],
   "source": [
    "power1 = math.pow(distance.mahalanobis(setosa_test[0],xMean1,invCov1),2)\n",
    "print(power1)"
   ]
  },
  {
   "cell_type": "code",
   "execution_count": 70,
   "metadata": {},
   "outputs": [],
   "source": [
    "pw1_1 = multivariate_normal.pdf(setosa_test[0], mean=xMean1, cov=covX1);"
   ]
  },
  {
   "cell_type": "code",
   "execution_count": 71,
   "metadata": {},
   "outputs": [
    {
     "name": "stdout",
     "output_type": "stream",
     "text": [
      "2.0373901184975676\n"
     ]
    }
   ],
   "source": [
    "print(pw1_1)"
   ]
  },
  {
   "cell_type": "code",
   "execution_count": 73,
   "metadata": {},
   "outputs": [
    {
     "data": {
      "text/plain": [
       "0.3333333333333333"
      ]
     },
     "execution_count": 73,
     "metadata": {},
     "output_type": "execute_result"
    }
   ],
   "source": [
    "pw1 = 1/3;pw1\n"
   ]
  },
  {
   "cell_type": "code",
   "execution_count": 75,
   "metadata": {},
   "outputs": [],
   "source": [
    "pw2 =1/3;pw3=1/3"
   ]
  },
  {
   "cell_type": "code",
   "execution_count": 113,
   "metadata": {},
   "outputs": [
    {
     "name": "stdout",
     "output_type": "stream",
     "text": [
      "[0, 0, 0, 0, 0, 0, 0, 0, 0, 0] [1, 1, 1, 2, 1, 1, 1, 1, 1, 1] [0, 0, 0, 0, 0, 0, 0, 0, 0, 0]\n"
     ]
    }
   ],
   "source": [
    "ans_setosa_test = []\n",
    "# result_setosa = []\n",
    "ans_versicolor_test = []\n",
    "# result_versicolor = []\n",
    "ans_verginica_test = []\n",
    "# result_verginica = []\n",
    "\n",
    "for x1,x2,x3 in zip(setosa_test,versicolor_test,verginica_test):\n",
    "    temp1 ={}\n",
    "    temp1[0]=multivariate_normal.pdf(x1, mean=xMean1, cov=covX1);\n",
    "    temp1[1]=multivariate_normal.pdf(x1, mean=xMean2, cov=covX2);\n",
    "    temp1[2]=multivariate_normal.pdf(x1, mean=xMean3, cov=covX3);\n",
    "    res1 = max(temp1.items(), key=operator.itemgetter(1))[0]\n",
    "#     print(res1)\n",
    "    ans_setosa_test.append(res1)\n",
    "    \n",
    "    \n",
    "    temp2 ={}\n",
    "    temp2[0]=multivariate_normal.pdf(x2, mean=xMean1, cov=covX1);\n",
    "    temp2[1]=multivariate_normal.pdf(x2, mean=xMean2, cov=covX2);\n",
    "    temp2[2]=multivariate_normal.pdf(x2, mean=xMean3, cov=covX3);\n",
    "    res2 = max(temp2.items(), key=operator.itemgetter(1))[0]\n",
    "#     print(res2)\n",
    "    ans_versicolor_test.append(res2)\n",
    "    \n",
    "    \n",
    "    temp3 ={}\n",
    "    temp3[0]=multivariate_normal.pdf(x3, mean=xMean1, cov=covX1);\n",
    "    temp3[1]=multivariate_normal.pdf(x3, mean=xMean2, cov=covX2);\n",
    "    temp3[2]=multivariate_normal.pdf(x3, mean=xMean3, cov=covX3);\n",
    "    res3 = max(temp1.items(), key=operator.itemgetter(1))[0]\n",
    "#     print(res3)\n",
    "    ans_verginica_test.append(res3)\n",
    "    pass\n",
    "\n",
    "print(ans_verginica_test,ans_versicolor_test,ans_setosa_test)"
   ]
  },
  {
   "cell_type": "code",
   "execution_count": 109,
   "metadata": {},
   "outputs": [
    {
     "name": "stdout",
     "output_type": "stream",
     "text": [
      "0 0 0\n",
      "10 9 0\n"
     ]
    }
   ],
   "source": [
    "sum1,sum2,sum3= 0,0,0;print(sum1,sum2,sum3)\n",
    "for res1,res2,res3 in zip(ans_setosa_test,ans_versicolor_test,ans_verginica_test):\n",
    "    if res1 == 0:\n",
    "        sum1 = sum1 + 1\n",
    "    if res2 == 1:\n",
    "        sum2 = sum2 + 1\n",
    "    if res3== 2:\n",
    "        sum3 = sum3 + 1\n",
    "    pass\n",
    "print(sum1,sum2,sum3)"
   ]
  },
  {
   "cell_type": "code",
   "execution_count": 122,
   "metadata": {},
   "outputs": [
    {
     "name": "stdout",
     "output_type": "stream",
     "text": [
      "[1.0, 0.9, 0.0, 0.6333333333333333]\n"
     ]
    }
   ],
   "source": [
    "acc1 = sum1 / 10\n",
    "acc2 = sum2 / 10\n",
    "acc3 = sum3 / 10\n",
    "accOverall = (sum1 + sum2 + sum3)/30\n",
    "valPlot = []\n",
    "valPlot.append(acc1)\n",
    "valPlot.append(acc2)\n",
    "valPlot.append(acc3)\n",
    "valPlot.append(accOverall)\n",
    "print(valPlot)"
   ]
  },
  {
   "cell_type": "code",
   "execution_count": 124,
   "metadata": {},
   "outputs": [],
   "source": [
    "labelPlot = [\"Setosa\",\"Versicolor\",\"Verginica\",\"Overal\"]"
   ]
  },
  {
   "cell_type": "code",
   "execution_count": 131,
   "metadata": {},
   "outputs": [
    {
     "data": {
      "text/plain": [
       "<matplotlib.collections.PathCollection at 0x7f067c86e3c8>"
      ]
     },
     "execution_count": 131,
     "metadata": {},
     "output_type": "execute_result"
    },
    {
     "data": {
      "image/png": "[encoded data removed]",
      "text/plain": [
       "<Figure size 432x288 with 1 Axes>"
      ]
     },
     "metadata": {
      "needs_background": "light"
     },
     "output_type": "display_data"
    }
   ],
   "source": [
    "plt.scatter(labelPlot,valPlot,label=\"Accuracy vs Class\",color=\"blue\",s=50)"
   ]
  },
  {
   "cell_type": "code",
   "execution_count": 129,
   "metadata": {},
   "outputs": [],
   "source": [
    "plt.show()"
   ]
  },
  {
   "cell_type": "code",
   "execution_count": null,
   "metadata": {},
   "outputs": [],
   "source": []
  }
 ],
 "metadata": {
  "kernelspec": {
   "display_name": "Python 3",
   "language": "python",
   "name": "python3"
  },
  "language_info": {
   "codemirror_mode": {
    "name": "ipython",
    "version": 3
   },
   "file_extension": ".py",
   "mimetype": "text/x-python",
   "name": "python",
   "nbconvert_exporter": "python",
   "pygments_lexer": "ipython3",
   "version": "3.6.7"
  }
 },
 "nbformat": 4,
 "nbformat_minor": 2
}
